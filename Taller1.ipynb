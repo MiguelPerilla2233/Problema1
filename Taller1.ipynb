{
 "cells": [
  {
   "cell_type": "code",
   "execution_count": 1,
   "id": "56e7c9b2",
   "metadata": {},
   "outputs": [],
   "source": [
    "import numpy as np\n",
    "import matplotlib.pyplot as plt\n",
    "import pandas as pd\n",
    "import sklearn.linear_model\n"
   ]
  },
  {
   "cell_type": "code",
   "execution_count": 2,
   "id": "eac86bb7",
   "metadata": {},
   "outputs": [
    {
     "data": {
      "text/html": [
       "<div>\n",
       "<style scoped>\n",
       "    .dataframe tbody tr th:only-of-type {\n",
       "        vertical-align: middle;\n",
       "    }\n",
       "\n",
       "    .dataframe tbody tr th {\n",
       "        vertical-align: top;\n",
       "    }\n",
       "\n",
       "    .dataframe thead th {\n",
       "        text-align: right;\n",
       "    }\n",
       "</style>\n",
       "<table border=\"1\" class=\"dataframe\">\n",
       "  <thead>\n",
       "    <tr style=\"text-align: right;\">\n",
       "      <th></th>\n",
       "      <th>Edad</th>\n",
       "      <th>TC</th>\n",
       "      <th>LCMR</th>\n",
       "    </tr>\n",
       "  </thead>\n",
       "  <tbody>\n",
       "    <tr>\n",
       "      <th>0</th>\n",
       "      <td>17</td>\n",
       "      <td>4.9</td>\n",
       "      <td>0.153</td>\n",
       "    </tr>\n",
       "    <tr>\n",
       "      <th>1</th>\n",
       "      <td>22</td>\n",
       "      <td>13.7</td>\n",
       "      <td>0.304</td>\n",
       "    </tr>\n",
       "    <tr>\n",
       "      <th>2</th>\n",
       "      <td>27</td>\n",
       "      <td>15.8</td>\n",
       "      <td>0.604</td>\n",
       "    </tr>\n",
       "    <tr>\n",
       "      <th>3</th>\n",
       "      <td>32</td>\n",
       "      <td>17.1</td>\n",
       "      <td>2.416</td>\n",
       "    </tr>\n",
       "    <tr>\n",
       "      <th>4</th>\n",
       "      <td>37</td>\n",
       "      <td>17.9</td>\n",
       "      <td>8.111</td>\n",
       "    </tr>\n",
       "    <tr>\n",
       "      <th>...</th>\n",
       "      <td>...</td>\n",
       "      <td>...</td>\n",
       "      <td>...</td>\n",
       "    </tr>\n",
       "    <tr>\n",
       "      <th>65</th>\n",
       "      <td>27</td>\n",
       "      <td>9.7</td>\n",
       "      <td>0.297</td>\n",
       "    </tr>\n",
       "    <tr>\n",
       "      <th>66</th>\n",
       "      <td>32</td>\n",
       "      <td>9.0</td>\n",
       "      <td>1.150</td>\n",
       "    </tr>\n",
       "    <tr>\n",
       "      <th>67</th>\n",
       "      <td>37</td>\n",
       "      <td>9.1</td>\n",
       "      <td>3.106</td>\n",
       "    </tr>\n",
       "    <tr>\n",
       "      <th>68</th>\n",
       "      <td>42</td>\n",
       "      <td>7.3</td>\n",
       "      <td>8.804</td>\n",
       "    </tr>\n",
       "    <tr>\n",
       "      <th>69</th>\n",
       "      <td>47</td>\n",
       "      <td>6.2</td>\n",
       "      <td>19.636</td>\n",
       "    </tr>\n",
       "  </tbody>\n",
       "</table>\n",
       "<p>70 rows × 3 columns</p>\n",
       "</div>"
      ],
      "text/plain": [
       "    Edad    TC    LCMR\n",
       "0     17   4.9   0.153\n",
       "1     22  13.7   0.304\n",
       "2     27  15.8   0.604\n",
       "3     32  17.1   2.416\n",
       "4     37  17.9   8.111\n",
       "..   ...   ...     ...\n",
       "65    27   9.7   0.297\n",
       "66    32   9.0   1.150\n",
       "67    37   9.1   3.106\n",
       "68    42   7.3   8.804\n",
       "69    47   6.2  19.636\n",
       "\n",
       "[70 rows x 3 columns]"
      ]
     },
     "execution_count": 2,
     "metadata": {},
     "output_type": "execute_result"
    }
   ],
   "source": [
    "file = pd.read_csv(\"USA.csv\", usecols = [0,1,2])\n",
    "file "
   ]
  },
  {
   "cell_type": "code",
   "execution_count": 3,
   "id": "f0bf4243",
   "metadata": {},
   "outputs": [],
   "source": [
    "gen_1 = file[0:13]\n",
    "gen_2 = file[13:25]\n",
    "gen_3 = file[25:36]\n",
    "gen_4 = file[36:46]\n",
    "gen_5 = file[46:55]\n",
    "gen_6 = file[55:63]\n",
    "gen_7 = file[63:70]"
   ]
  },
  {
   "cell_type": "code",
   "execution_count": 23,
   "id": "f1b6fe5c",
   "metadata": {},
   "outputs": [
    {
     "data": {
      "image/png": "[encoded data removed]",
      "text/plain": [
       "<Figure size 432x288 with 1 Axes>"
      ]
     },
     "metadata": {
      "needs_background": "light"
     },
     "output_type": "display_data"
    }
   ],
   "source": [
    "x = np.sort(np.array(file['Edad']))\n",
    "y = np.sort(np.array(file[\"LCMR\"]))\n",
    "z = np.sort(np.array(file[\"TC\"]))\n",
    "cum = np.linspace(1.0/len(y),1.0,len(y))\n",
    "#suma = get_suma(z)\n",
    "\n",
    "#_ = plt.scatter(suma, y, c='r')\n",
    "_ = plt.scatter(x,y,alpha=0.5)\n",
    "plt.title(\"Mortalidad de cáncer de pulmón contra edad\")\n",
    "plt.xlabel(\"Edad\")\n",
    "plt.ylabel(\"Tasa de mortalidad\")\n",
    "plt.savefig(\"MvsE\")"
   ]
  },
  {
   "cell_type": "code",
   "execution_count": 5,
   "id": "ac1cfc36",
   "metadata": {},
   "outputs": [],
   "source": [
    "def get_suma(y):\n",
    "    z = []\n",
    "    #z.append(y[0])\n",
    "    for i in range(len(y)):\n",
    "        z.append(np.sum(y[0:i+1]))\n",
    "        \n",
    "    return np.array(z)"
   ]
  },
  {
   "cell_type": "code",
   "execution_count": 6,
   "id": "66cb97d6",
   "metadata": {},
   "outputs": [],
   "source": [
    "lin = sklearn.linear_model.LinearRegression()"
   ]
  },
  {
   "cell_type": "code",
   "execution_count": 7,
   "id": "7bfd3ded",
   "metadata": {},
   "outputs": [],
   "source": [
    "X = np.array([x]).T"
   ]
  },
  {
   "cell_type": "code",
   "execution_count": 8,
   "id": "f60c2aef",
   "metadata": {},
   "outputs": [
    {
     "data": {
      "text/plain": [
       "LinearRegression()"
      ]
     },
     "execution_count": 8,
     "metadata": {},
     "output_type": "execute_result"
    }
   ],
   "source": [
    "lin.fit(X,y)"
   ]
  },
  {
   "cell_type": "code",
   "execution_count": 9,
   "id": "5c430353",
   "metadata": {},
   "outputs": [],
   "source": [
    "y_pred = lin.predict(X)\n",
    "y_pred = np.sort(y_pred, axis= 0)"
   ]
  },
  {
   "cell_type": "code",
   "execution_count": 10,
   "id": "7295f89a",
   "metadata": {},
   "outputs": [
    {
     "data": {
      "text/plain": [
       "[<matplotlib.lines.Line2D at 0x24d2396b490>]"
      ]
     },
     "execution_count": 10,
     "metadata": {},
     "output_type": "execute_result"
    },
    {
     "data": {
      "image/png": "[encoded data removed]",
      "text/plain": [
       "<Figure size 432x288 with 1 Axes>"
      ]
     },
     "metadata": {
      "needs_background": "light"
     },
     "output_type": "display_data"
    }
   ],
   "source": [
    "plt.scatter(x, y)\n",
    "plt.plot(x, y_pred,'r')"
   ]
  },
  {
   "cell_type": "code",
   "execution_count": 11,
   "id": "d8a35abd",
   "metadata": {},
   "outputs": [
    {
     "name": "stdout",
     "output_type": "stream",
     "text": [
      "y =   5.4872808730936065*X_1 +-160.3629610745768 con R^2 de 0.6820148076860362\n"
     ]
    }
   ],
   "source": [
    "score = lin.score(X, y)\n",
    "print(\"y =   {}*X_1 +{} con R^2 de {}\".format(lin.coef_[0],lin.intercept_,score))"
   ]
  },
  {
   "cell_type": "code",
   "execution_count": 26,
   "id": "d2ad6c56",
   "metadata": {},
   "outputs": [
    {
     "data": {
      "image/png": "[encoded data removed]",
      "text/plain": [
       "<Figure size 432x288 with 1 Axes>"
      ]
     },
     "metadata": {
      "needs_background": "light"
     },
     "output_type": "display_data"
    }
   ],
   "source": [
    "y1 = (np.concatenate((gen_1[\"LCMR\"],gen_2[\"LCMR\"],gen_3[\"LCMR\"],gen_4[\"LCMR\"],gen_5[\"LCMR\"])))\n",
    "x1 = (np.concatenate((get_suma(gen_1[\"TC\"]) , get_suma(gen_2[\"TC\"]),get_suma(gen_3[\"TC\"]),get_suma(gen_4[\"TC\"]),get_suma(gen_5[\"TC\"]))))\n",
    "z = (np.concatenate((gen_1[\"Edad\"],gen_2[\"Edad\"],gen_3['Edad'],gen_4['Edad'],gen_5['Edad'])))\n",
    "#w1 = np.array(gen_1[\"TC\"])\n",
    "plt.scatter(x1,y1)\n",
    "#plt.scatter(z,x1)\n",
    "#plt.scatter(z,y1)\n",
    "plt.title(\"Tasa de mortalidad de cáncer de pulmón contra consumo de tabaco\")\n",
    "plt.xlabel(\"Consumo de tabaco\")\n",
    "plt.ylabel(\"Tasa de mortalidad\")\n",
    "plt.savefig(\"TCVLC\")"
   ]
  },
  {
   "cell_type": "code",
   "execution_count": 13,
   "id": "4c8e0b88",
   "metadata": {},
   "outputs": [
    {
     "data": {
      "text/plain": [
       "array([  4.9,  18.6,  34.4,  51.5,  69.4,  87.5, 103.9, 115.3, 125. ,\n",
       "       132.9, 137.9, 140.8, 142.6,   6. ,  20.7,  36.8,  54.4,  72.7,\n",
       "        89.2, 101.6, 112.3, 121.2, 127.4, 131.3, 134. ,   6.4,  20.8,\n",
       "        37.5,  53.7,  70.7,  83.5,  95.1, 105.4, 113. , 118.1, 121.6,\n",
       "         6.6,  20.6,  36.3,  50.7,  63.3,  75. ,  85.5,  93.9, 100. ,\n",
       "       105.3,   5.9,  18.3,  31.5,  43.2,  54.5,  64.9,  74.1,  81. ,\n",
       "        86.6])"
      ]
     },
     "execution_count": 13,
     "metadata": {},
     "output_type": "execute_result"
    }
   ],
   "source": [
    "reg = sklearn.linear_model.LinearRegression()\n",
    "#get_suma(gen_3[\"TC\"])\n",
    "x1"
   ]
  },
  {
   "cell_type": "code",
   "execution_count": 14,
   "id": "57961f83",
   "metadata": {},
   "outputs": [
    {
     "data": {
      "text/plain": [
       "(55, 2)"
      ]
     },
     "execution_count": 14,
     "metadata": {},
     "output_type": "execute_result"
    }
   ],
   "source": [
    "Z = np.array([x1,z]).T\n",
    "#Z = Z.reshape(2,12).T\n",
    "Z.shape"
   ]
  },
  {
   "cell_type": "code",
   "execution_count": 15,
   "id": "f87f06c8",
   "metadata": {},
   "outputs": [
    {
     "data": {
      "text/plain": [
       "LinearRegression()"
      ]
     },
     "execution_count": 15,
     "metadata": {},
     "output_type": "execute_result"
    }
   ],
   "source": [
    "reg.fit(Z,y1)"
   ]
  },
  {
   "cell_type": "code",
   "execution_count": 16,
   "id": "a9dfac4d",
   "metadata": {},
   "outputs": [
    {
     "data": {
      "text/plain": [
       "array([-58.47766128, -32.02018786,  -9.66199963,  10.15853587,\n",
       "        28.41743892,  46.28593385,  67.47289775,  98.42006446,\n",
       "       132.68570013, 170.46500882, 213.90523514, 261.44474665,\n",
       "       311.13150278, -60.6249059 , -36.11947305, -14.34689698,\n",
       "         4.49761823,  21.97570506,  42.96746489,  71.96259104,\n",
       "       104.27618615, 140.10345428, 181.20123192, 226.78870286,\n",
       "       274.71862248, -61.40572213, -36.3146771 , -15.71332538,\n",
       "         5.86404663,  25.87978618,  54.09409611,  84.65085471,\n",
       "       117.74526604, 156.1101869 , 199.35520917, 245.72349633,\n",
       "       -61.79613024, -35.92426899, -13.3708767 ,  11.72016832,\n",
       "        40.32488636,  70.6864409 , 103.39044412, 140.19373253,\n",
       "       181.48671423, 224.34132838, -60.42970184, -31.43457569,\n",
       "        -4.001082  ,  26.36047255,  57.50284332,  90.4020506 ,\n",
       "       125.64370655, 165.3750558 , 207.64405779])"
      ]
     },
     "execution_count": 16,
     "metadata": {},
     "output_type": "execute_result"
    }
   ],
   "source": [
    "y_n1 = reg.predict(Z)\n",
    "y_n1"
   ]
  },
  {
   "cell_type": "code",
   "execution_count": 29,
   "id": "d870a768",
   "metadata": {},
   "outputs": [
    {
     "data": {
      "image/png": "[encoded data removed]",
      "text/plain": [
       "<Figure size 432x288 with 1 Axes>"
      ]
     },
     "metadata": {
      "needs_background": "light"
     },
     "output_type": "display_data"
    }
   ],
   "source": [
    "plt.scatter(x1, y1,alpha=0.5, label =\"datos\")\n",
    "plt.scatter(x1, y_n1,alpha=0.5, label =\"predicción\")\n",
    "#plt.scatter(z,y_n1)\n",
    "plt.title(\"Modelo: mortalidad contra consumo de tabaco\")\n",
    "plt.legend()\n",
    "plt.xlabel(\"consumo de tabaco\")\n",
    "plt.ylabel(\"tasa de mortalidad\")\n",
    "plt.savefig(\"ModeloTC\")"
   ]
  },
  {
   "cell_type": "code",
   "execution_count": 30,
   "id": "4f40e136",
   "metadata": {},
   "outputs": [
    {
     "data": {
      "image/png": "[encoded data removed]",
      "text/plain": [
       "<Figure size 432x288 with 1 Axes>"
      ]
     },
     "metadata": {
      "needs_background": "light"
     },
     "output_type": "display_data"
    }
   ],
   "source": [
    "plt.scatter(z,y1, alpha =0.5, label = \"datos\")\n",
    "plt.scatter((z),(y_n1),alpha =0.5, label = \"predicción\")\n",
    "plt.legend()\n",
    "plt.title(\"Modelo: mortalidad contra edad\")\n",
    "plt.xlabel(\"edad\")\n",
    "plt.ylabel(\"tasa de mortalidad\")\n",
    "plt.savefig(\"ModeloEdad\")"
   ]
  },
  {
   "cell_type": "code",
   "execution_count": 31,
   "id": "4b80a688",
   "metadata": {},
   "outputs": [
    {
     "data": {
      "text/plain": [
       "0.7429437367375848"
      ]
     },
     "execution_count": 31,
     "metadata": {},
     "output_type": "execute_result"
    }
   ],
   "source": [
    "score = reg.score(Z, y1)\n",
    "score"
   ]
  },
  {
   "cell_type": "code",
   "execution_count": 20,
   "id": "bb833bed",
   "metadata": {
    "scrolled": true
   },
   "outputs": [
    {
     "data": {
      "text/plain": [
       "(array([-1.95204056, 10.64008583]), -229.79412159950272)"
      ]
     },
     "execution_count": 20,
     "metadata": {},
     "output_type": "execute_result"
    }
   ],
   "source": [
    "reg.coef_, reg.intercept_"
   ]
  },
  {
   "cell_type": "code",
   "execution_count": 21,
   "id": "1fac4b44",
   "metadata": {},
   "outputs": [
    {
     "data": {
      "text/plain": [
       "[<matplotlib.lines.Line2D at 0x24d23ac7160>]"
      ]
     },
     "execution_count": 21,
     "metadata": {},
     "output_type": "execute_result"
    },
    {
     "data": {
      "image/png": "[encoded data removed]",
      "text/plain": [
       "<Figure size 432x288 with 1 Axes>"
      ]
     },
     "metadata": {
      "needs_background": "light"
     },
     "output_type": "display_data"
    }
   ],
   "source": [
    "a = np.linspace(15,85,100)\n",
    "b = reg.coef_[1]*a + reg.intercept_\n",
    "c = np.ones([100])*0.5\n",
    "c = get_suma(c)\n",
    "d = reg.coef_[0]*c +b\n",
    "plt.plot(a,b)\n",
    "plt.plot(a,d)"
   ]
  },
  {
   "cell_type": "code",
   "execution_count": 35,
   "id": "fee9686e",
   "metadata": {},
   "outputs": [
    {
     "data": {
      "image/png": "[encoded data removed]",
      "text/plain": [
       "<Figure size 432x288 with 1 Axes>"
      ]
     },
     "metadata": {
      "needs_background": "light"
     },
     "output_type": "display_data"
    }
   ],
   "source": [
    "graph = {'beta_0':reg.intercept_,'beta_1':reg.coef_[0],'beta_2':reg.coef_[1]}\n",
    "courses = list(graph.keys())\n",
    "values = list(graph.values())\n",
    "plt.bar(courses, values,width = 0.4)\n",
    "plt.title(\"Importancia de los coeficientes lineales\")\n",
    "plt.savefig(\"import\")"
   ]
  }
 ],
 "metadata": {
  "kernelspec": {
   "display_name": "Python 3 (ipykernel)",
   "language": "python",
   "name": "python3"
  },
  "language_info": {
   "codemirror_mode": {
    "name": "ipython",
    "version": 3
   },
   "file_extension": ".py",
   "mimetype": "text/x-python",
   "name": "python",
   "nbconvert_exporter": "python",
   "pygments_lexer": "ipython3",
   "version": "3.9.7"
  }
 },
 "nbformat": 4,
 "nbformat_minor": 5
}
