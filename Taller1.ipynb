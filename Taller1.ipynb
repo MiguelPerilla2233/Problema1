{
 "cells": [
  {
   "cell_type": "code",
   "execution_count": 1,
   "id": "d04c0408",
   "metadata": {},
   "outputs": [],
   "source": [
    "import numpy as np\n",
    "import matplotlib.pyplot as plt\n",
    "import pandas as pd\n",
    "import sklearn.linear_model"
   ]
  },
  {
   "cell_type": "code",
   "execution_count": 2,
   "id": "e766dfae",
   "metadata": {},
   "outputs": [],
   "source": [
    "file = pd.read_csv(\"Smoke_data.csv\")"
   ]
  },
  {
   "cell_type": "code",
   "execution_count": 3,
   "id": "c9276dce",
   "metadata": {},
   "outputs": [
    {
     "data": {
      "text/html": [
       "<div>\n",
       "<style scoped>\n",
       "    .dataframe tbody tr th:only-of-type {\n",
       "        vertical-align: middle;\n",
       "    }\n",
       "\n",
       "    .dataframe tbody tr th {\n",
       "        vertical-align: top;\n",
       "    }\n",
       "\n",
       "    .dataframe thead th {\n",
       "        text-align: right;\n",
       "    }\n",
       "</style>\n",
       "<table border=\"1\" class=\"dataframe\">\n",
       "  <thead>\n",
       "    <tr style=\"text-align: right;\">\n",
       "      <th></th>\n",
       "      <th>measure_id</th>\n",
       "      <th>measure_name</th>\n",
       "      <th>location_id</th>\n",
       "      <th>location_name</th>\n",
       "      <th>sex_id</th>\n",
       "      <th>sex_name</th>\n",
       "      <th>age_id</th>\n",
       "      <th>age_name</th>\n",
       "      <th>metric_id</th>\n",
       "      <th>metric_name</th>\n",
       "      <th>year</th>\n",
       "      <th>val</th>\n",
       "      <th>upper</th>\n",
       "      <th>lower</th>\n",
       "    </tr>\n",
       "  </thead>\n",
       "  <tbody>\n",
       "    <tr>\n",
       "      <th>0</th>\n",
       "      <td>26</td>\n",
       "      <td>Life expectancy</td>\n",
       "      <td>4743</td>\n",
       "      <td>European Union</td>\n",
       "      <td>3</td>\n",
       "      <td>Both</td>\n",
       "      <td>8</td>\n",
       "      <td>15 to 19</td>\n",
       "      <td>5</td>\n",
       "      <td>Years</td>\n",
       "      <td>2006</td>\n",
       "      <td>64.427035</td>\n",
       "      <td>64.451569</td>\n",
       "      <td>64.402555</td>\n",
       "    </tr>\n",
       "    <tr>\n",
       "      <th>1</th>\n",
       "      <td>26</td>\n",
       "      <td>Life expectancy</td>\n",
       "      <td>4743</td>\n",
       "      <td>European Union</td>\n",
       "      <td>3</td>\n",
       "      <td>Both</td>\n",
       "      <td>9</td>\n",
       "      <td>20 to 24</td>\n",
       "      <td>5</td>\n",
       "      <td>Years</td>\n",
       "      <td>2006</td>\n",
       "      <td>59.545261</td>\n",
       "      <td>59.569354</td>\n",
       "      <td>59.521030</td>\n",
       "    </tr>\n",
       "    <tr>\n",
       "      <th>2</th>\n",
       "      <td>26</td>\n",
       "      <td>Life expectancy</td>\n",
       "      <td>4743</td>\n",
       "      <td>European Union</td>\n",
       "      <td>3</td>\n",
       "      <td>Both</td>\n",
       "      <td>10</td>\n",
       "      <td>25 to 29</td>\n",
       "      <td>5</td>\n",
       "      <td>Years</td>\n",
       "      <td>2006</td>\n",
       "      <td>54.700838</td>\n",
       "      <td>54.724610</td>\n",
       "      <td>54.676931</td>\n",
       "    </tr>\n",
       "    <tr>\n",
       "      <th>3</th>\n",
       "      <td>26</td>\n",
       "      <td>Life expectancy</td>\n",
       "      <td>4743</td>\n",
       "      <td>European Union</td>\n",
       "      <td>3</td>\n",
       "      <td>Both</td>\n",
       "      <td>11</td>\n",
       "      <td>30 to 34</td>\n",
       "      <td>5</td>\n",
       "      <td>Years</td>\n",
       "      <td>2006</td>\n",
       "      <td>49.855619</td>\n",
       "      <td>49.879188</td>\n",
       "      <td>49.832002</td>\n",
       "    </tr>\n",
       "    <tr>\n",
       "      <th>4</th>\n",
       "      <td>26</td>\n",
       "      <td>Life expectancy</td>\n",
       "      <td>4743</td>\n",
       "      <td>European Union</td>\n",
       "      <td>3</td>\n",
       "      <td>Both</td>\n",
       "      <td>12</td>\n",
       "      <td>35 to 39</td>\n",
       "      <td>5</td>\n",
       "      <td>Years</td>\n",
       "      <td>2006</td>\n",
       "      <td>45.032148</td>\n",
       "      <td>45.055490</td>\n",
       "      <td>45.008868</td>\n",
       "    </tr>\n",
       "    <tr>\n",
       "      <th>...</th>\n",
       "      <td>...</td>\n",
       "      <td>...</td>\n",
       "      <td>...</td>\n",
       "      <td>...</td>\n",
       "      <td>...</td>\n",
       "      <td>...</td>\n",
       "      <td>...</td>\n",
       "      <td>...</td>\n",
       "      <td>...</td>\n",
       "      <td>...</td>\n",
       "      <td>...</td>\n",
       "      <td>...</td>\n",
       "      <td>...</td>\n",
       "      <td>...</td>\n",
       "    </tr>\n",
       "    <tr>\n",
       "      <th>7035</th>\n",
       "      <td>26</td>\n",
       "      <td>Life expectancy</td>\n",
       "      <td>137</td>\n",
       "      <td>North Africa and Middle East</td>\n",
       "      <td>3</td>\n",
       "      <td>Both</td>\n",
       "      <td>19</td>\n",
       "      <td>70 to 74</td>\n",
       "      <td>5</td>\n",
       "      <td>Years</td>\n",
       "      <td>2018</td>\n",
       "      <td>12.869339</td>\n",
       "      <td>13.339453</td>\n",
       "      <td>12.412475</td>\n",
       "    </tr>\n",
       "    <tr>\n",
       "      <th>7036</th>\n",
       "      <td>26</td>\n",
       "      <td>Life expectancy</td>\n",
       "      <td>137</td>\n",
       "      <td>North Africa and Middle East</td>\n",
       "      <td>3</td>\n",
       "      <td>Both</td>\n",
       "      <td>20</td>\n",
       "      <td>75 to 79</td>\n",
       "      <td>5</td>\n",
       "      <td>Years</td>\n",
       "      <td>2018</td>\n",
       "      <td>9.951202</td>\n",
       "      <td>10.314046</td>\n",
       "      <td>9.603648</td>\n",
       "    </tr>\n",
       "    <tr>\n",
       "      <th>7037</th>\n",
       "      <td>26</td>\n",
       "      <td>Life expectancy</td>\n",
       "      <td>137</td>\n",
       "      <td>North Africa and Middle East</td>\n",
       "      <td>3</td>\n",
       "      <td>Both</td>\n",
       "      <td>30</td>\n",
       "      <td>80 to 84</td>\n",
       "      <td>5</td>\n",
       "      <td>Years</td>\n",
       "      <td>2018</td>\n",
       "      <td>7.529839</td>\n",
       "      <td>7.790025</td>\n",
       "      <td>7.280375</td>\n",
       "    </tr>\n",
       "    <tr>\n",
       "      <th>7038</th>\n",
       "      <td>26</td>\n",
       "      <td>Life expectancy</td>\n",
       "      <td>137</td>\n",
       "      <td>North Africa and Middle East</td>\n",
       "      <td>3</td>\n",
       "      <td>Both</td>\n",
       "      <td>31</td>\n",
       "      <td>85 to 89</td>\n",
       "      <td>5</td>\n",
       "      <td>Years</td>\n",
       "      <td>2018</td>\n",
       "      <td>5.544412</td>\n",
       "      <td>5.733748</td>\n",
       "      <td>5.363346</td>\n",
       "    </tr>\n",
       "    <tr>\n",
       "      <th>7039</th>\n",
       "      <td>26</td>\n",
       "      <td>Life expectancy</td>\n",
       "      <td>137</td>\n",
       "      <td>North Africa and Middle East</td>\n",
       "      <td>3</td>\n",
       "      <td>Both</td>\n",
       "      <td>32</td>\n",
       "      <td>90 to 94</td>\n",
       "      <td>5</td>\n",
       "      <td>Years</td>\n",
       "      <td>2018</td>\n",
       "      <td>4.227404</td>\n",
       "      <td>4.371644</td>\n",
       "      <td>4.089698</td>\n",
       "    </tr>\n",
       "  </tbody>\n",
       "</table>\n",
       "<p>7040 rows × 14 columns</p>\n",
       "</div>"
      ],
      "text/plain": [
       "      measure_id     measure_name  location_id                 location_name  \\\n",
       "0             26  Life expectancy         4743                European Union   \n",
       "1             26  Life expectancy         4743                European Union   \n",
       "2             26  Life expectancy         4743                European Union   \n",
       "3             26  Life expectancy         4743                European Union   \n",
       "4             26  Life expectancy         4743                European Union   \n",
       "...          ...              ...          ...                           ...   \n",
       "7035          26  Life expectancy          137  North Africa and Middle East   \n",
       "7036          26  Life expectancy          137  North Africa and Middle East   \n",
       "7037          26  Life expectancy          137  North Africa and Middle East   \n",
       "7038          26  Life expectancy          137  North Africa and Middle East   \n",
       "7039          26  Life expectancy          137  North Africa and Middle East   \n",
       "\n",
       "      sex_id sex_name  age_id  age_name  metric_id metric_name  year  \\\n",
       "0          3     Both       8  15 to 19          5       Years  2006   \n",
       "1          3     Both       9  20 to 24          5       Years  2006   \n",
       "2          3     Both      10  25 to 29          5       Years  2006   \n",
       "3          3     Both      11  30 to 34          5       Years  2006   \n",
       "4          3     Both      12  35 to 39          5       Years  2006   \n",
       "...      ...      ...     ...       ...        ...         ...   ...   \n",
       "7035       3     Both      19  70 to 74          5       Years  2018   \n",
       "7036       3     Both      20  75 to 79          5       Years  2018   \n",
       "7037       3     Both      30  80 to 84          5       Years  2018   \n",
       "7038       3     Both      31  85 to 89          5       Years  2018   \n",
       "7039       3     Both      32  90 to 94          5       Years  2018   \n",
       "\n",
       "            val      upper      lower  \n",
       "0     64.427035  64.451569  64.402555  \n",
       "1     59.545261  59.569354  59.521030  \n",
       "2     54.700838  54.724610  54.676931  \n",
       "3     49.855619  49.879188  49.832002  \n",
       "4     45.032148  45.055490  45.008868  \n",
       "...         ...        ...        ...  \n",
       "7035  12.869339  13.339453  12.412475  \n",
       "7036   9.951202  10.314046   9.603648  \n",
       "7037   7.529839   7.790025   7.280375  \n",
       "7038   5.544412   5.733748   5.363346  \n",
       "7039   4.227404   4.371644   4.089698  \n",
       "\n",
       "[7040 rows x 14 columns]"
      ]
     },
     "execution_count": 3,
     "metadata": {},
     "output_type": "execute_result"
    }
   ],
   "source": [
    "file"
   ]
  },
  {
   "cell_type": "code",
   "execution_count": 4,
   "id": "6c12dd40",
   "metadata": {},
   "outputs": [],
   "source": [
    "Y = np.array(file[\"val\"])\n",
    "X = np.array(file[\"age_id\"]).reshape(-1,1)"
   ]
  },
  {
   "cell_type": "code",
   "execution_count": 5,
   "id": "65566390",
   "metadata": {},
   "outputs": [
    {
     "data": {
      "text/plain": [
       "(array([440., 440., 440., 440., 440., 440., 440., 440., 440., 440., 440.,\n",
       "        440., 440.,   0.,   0.,   0.,   0.,   0.,   0.,   0.,   0.,   0.,\n",
       "        440., 880.]),\n",
       " array([ 8.,  9., 10., 11., 12., 13., 14., 15., 16., 17., 18., 19., 20.,\n",
       "        21., 22., 23., 24., 25., 26., 27., 28., 29., 30., 31., 32.]),\n",
       " <BarContainer object of 24 artists>)"
      ]
     },
     "execution_count": 5,
     "metadata": {},
     "output_type": "execute_result"
    },
    {
     "data": {
      "image/png": "[encoded data removed]",
      "text/plain": [
       "<Figure size 432x288 with 1 Axes>"
      ]
     },
     "metadata": {
      "needs_background": "light"
     },
     "output_type": "display_data"
    }
   ],
   "source": [
    "plt.hist(X, bins=24)"
   ]
  },
  {
   "cell_type": "code",
   "execution_count": 6,
   "id": "0e9a7cbd",
   "metadata": {},
   "outputs": [
    {
     "data": {
      "text/plain": [
       "<matplotlib.collections.PathCollection at 0x213022e6b20>"
      ]
     },
     "execution_count": 6,
     "metadata": {},
     "output_type": "execute_result"
    },
    {
     "data": {
      "image/png": "[encoded data removed]",
      "text/plain": [
       "<Figure size 432x288 with 1 Axes>"
      ]
     },
     "metadata": {
      "needs_background": "light"
     },
     "output_type": "display_data"
    }
   ],
   "source": [
    "plt.scatter(X,Y)"
   ]
  },
  {
   "cell_type": "code",
   "execution_count": 7,
   "id": "7257bbf8",
   "metadata": {},
   "outputs": [],
   "source": [
    "lin = sklearn.linear_model.LinearRegression()"
   ]
  },
  {
   "cell_type": "code",
   "execution_count": 8,
   "id": "ffbdc962",
   "metadata": {},
   "outputs": [
    {
     "data": {
      "text/plain": [
       "LinearRegression()"
      ]
     },
     "execution_count": 8,
     "metadata": {},
     "output_type": "execute_result"
    }
   ],
   "source": [
    "lin.fit(X,Y)"
   ]
  },
  {
   "cell_type": "code",
   "execution_count": 10,
   "id": "1c6202a6",
   "metadata": {},
   "outputs": [],
   "source": [
    "y_pred = lin.predict(X)"
   ]
  },
  {
   "cell_type": "code",
   "execution_count": 18,
   "id": "9887535f",
   "metadata": {},
   "outputs": [
    {
     "data": {
      "text/plain": [
       "[<matplotlib.lines.Line2D at 0x21302808fd0>]"
      ]
     },
     "execution_count": 18,
     "metadata": {},
     "output_type": "execute_result"
    },
    {
     "data": {
      "image/png": "[encoded data removed]",
      "text/plain": [
       "<Figure size 432x288 with 1 Axes>"
      ]
     },
     "metadata": {
      "needs_background": "light"
     },
     "output_type": "display_data"
    }
   ],
   "source": [
    "plt.scatter(X, Y)\n",
    "plt.plot(X, y_pred,'r')"
   ]
  },
  {
   "cell_type": "code",
   "execution_count": 25,
   "id": "3dacaedd",
   "metadata": {},
   "outputs": [
    {
     "name": "stdout",
     "output_type": "stream",
     "text": [
      "y = -2.1379825189715556 *X + 64.94418761845154 con R^2 de 0.7853565990696764\n"
     ]
    }
   ],
   "source": [
    "score = lin.score(X, Y)\n",
    "print(\"y = {} *X + {} con R^2 de {}\".format(lin.coef_[0],lin.intercept_,score))"
   ]
  }
 ],
 "metadata": {
  "kernelspec": {
   "display_name": "Python 3 (ipykernel)",
   "language": "python",
   "name": "python3"
  },
  "language_info": {
   "codemirror_mode": {
    "name": "ipython",
    "version": 3
   },
   "file_extension": ".py",
   "mimetype": "text/x-python",
   "name": "python",
   "nbconvert_exporter": "python",
   "pygments_lexer": "ipython3",
   "version": "3.9.7"
  }
 },
 "nbformat": 4,
 "nbformat_minor": 5
}
