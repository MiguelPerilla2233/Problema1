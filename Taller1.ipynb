{
 "cells": [
  {
   "cell_type": "code",
   "execution_count": 1,
   "id": "56e7c9b2",
   "metadata": {},
   "outputs": [],
   "source": [
    "import numpy as np\n",
    "import matplotlib.pyplot as plt\n",
    "import pandas as pd\n",
    "import sklearn.linear_model"
   ]
  },
  {
   "cell_type": "code",
   "execution_count": 2,
   "id": "010d2d47",
   "metadata": {},
   "outputs": [
    {
     "data": {
      "text/html": [
       "<div>\n",
       "<style scoped>\n",
       "    .dataframe tbody tr th:only-of-type {\n",
       "        vertical-align: middle;\n",
       "    }\n",
       "\n",
       "    .dataframe tbody tr th {\n",
       "        vertical-align: top;\n",
       "    }\n",
       "\n",
       "    .dataframe thead th {\n",
       "        text-align: right;\n",
       "    }\n",
       "</style>\n",
       "<table border=\"1\" class=\"dataframe\">\n",
       "  <thead>\n",
       "    <tr style=\"text-align: right;\">\n",
       "      <th></th>\n",
       "      <th>Edad</th>\n",
       "      <th>TC</th>\n",
       "      <th>LCMR</th>\n",
       "    </tr>\n",
       "  </thead>\n",
       "  <tbody>\n",
       "    <tr>\n",
       "      <th>0</th>\n",
       "      <td>1</td>\n",
       "      <td>4.9</td>\n",
       "      <td>0.153</td>\n",
       "    </tr>\n",
       "    <tr>\n",
       "      <th>1</th>\n",
       "      <td>2</td>\n",
       "      <td>13.7</td>\n",
       "      <td>0.304</td>\n",
       "    </tr>\n",
       "    <tr>\n",
       "      <th>2</th>\n",
       "      <td>3</td>\n",
       "      <td>15.8</td>\n",
       "      <td>0.604</td>\n",
       "    </tr>\n",
       "    <tr>\n",
       "      <th>3</th>\n",
       "      <td>4</td>\n",
       "      <td>17.1</td>\n",
       "      <td>2.416</td>\n",
       "    </tr>\n",
       "    <tr>\n",
       "      <th>4</th>\n",
       "      <td>5</td>\n",
       "      <td>17.9</td>\n",
       "      <td>8.111</td>\n",
       "    </tr>\n",
       "    <tr>\n",
       "      <th>...</th>\n",
       "      <td>...</td>\n",
       "      <td>...</td>\n",
       "      <td>...</td>\n",
       "    </tr>\n",
       "    <tr>\n",
       "      <th>65</th>\n",
       "      <td>3</td>\n",
       "      <td>9.7</td>\n",
       "      <td>0.297</td>\n",
       "    </tr>\n",
       "    <tr>\n",
       "      <th>66</th>\n",
       "      <td>4</td>\n",
       "      <td>9.0</td>\n",
       "      <td>1.150</td>\n",
       "    </tr>\n",
       "    <tr>\n",
       "      <th>67</th>\n",
       "      <td>5</td>\n",
       "      <td>9.1</td>\n",
       "      <td>3.106</td>\n",
       "    </tr>\n",
       "    <tr>\n",
       "      <th>68</th>\n",
       "      <td>6</td>\n",
       "      <td>7.3</td>\n",
       "      <td>8.804</td>\n",
       "    </tr>\n",
       "    <tr>\n",
       "      <th>69</th>\n",
       "      <td>7</td>\n",
       "      <td>6.2</td>\n",
       "      <td>19.636</td>\n",
       "    </tr>\n",
       "  </tbody>\n",
       "</table>\n",
       "<p>70 rows × 3 columns</p>\n",
       "</div>"
      ],
      "text/plain": [
       "    Edad    TC    LCMR\n",
       "0      1   4.9   0.153\n",
       "1      2  13.7   0.304\n",
       "2      3  15.8   0.604\n",
       "3      4  17.1   2.416\n",
       "4      5  17.9   8.111\n",
       "..   ...   ...     ...\n",
       "65     3   9.7   0.297\n",
       "66     4   9.0   1.150\n",
       "67     5   9.1   3.106\n",
       "68     6   7.3   8.804\n",
       "69     7   6.2  19.636\n",
       "\n",
       "[70 rows x 3 columns]"
      ]
     },
     "execution_count": 2,
     "metadata": {},
     "output_type": "execute_result"
    }
   ],
   "source": [
    "file = pd.read_csv(\"USA.csv\", usecols = [0,1,2])\n",
    "file "
   ]
  },
  {
   "cell_type": "code",
   "execution_count": 3,
   "id": "67e8aa70",
   "metadata": {},
   "outputs": [],
   "source": [
    "gen_1 = file[0:13]\n",
    "gen_2 = file[13:25]\n",
    "gen_3 = file[25:36]\n",
    "gen_4 = file[36:46]\n",
    "gen_5 = file[46:55]\n",
    "gen_6 = file[55:63]\n",
    "gen_7 = file[63:70]"
   ]
  },
  {
   "cell_type": "code",
   "execution_count": 4,
   "id": "e5c00874",
   "metadata": {},
   "outputs": [
    {
     "data": {
      "image/png": "[encoded data removed]",
      "text/plain": [
       "<Figure size 432x288 with 1 Axes>"
      ]
     },
     "metadata": {
      "needs_background": "light"
     },
     "output_type": "display_data"
    }
   ],
   "source": [
    "x = np.sort(np.array(file['Edad']))\n",
    "y = np.sort(np.array(file[\"LCMR\"]))\n",
    "z = np.sort(np.array(file[\"TC\"]))\n",
    "cum = np.linspace(1.0/len(y),1.0,len(y))\n",
    "#suma = get_suma(z)\n",
    "\n",
    "#_ = plt.scatter(suma, y, c='r')\n",
    "_ = plt.scatter(x,y)"
   ]
  },
  {
   "cell_type": "code",
   "execution_count": 5,
   "id": "b41bd403",
   "metadata": {},
   "outputs": [],
   "source": [
    "def get_suma(y):\n",
    "    z = []\n",
    "    for i in range(len(y)):\n",
    "        z.append(np.sum(y[0:i]))\n",
    "        \n",
    "    return np.array(z)"
   ]
  },
  {
   "cell_type": "code",
   "execution_count": 6,
   "id": "11be7bee",
   "metadata": {},
   "outputs": [],
   "source": [
    "lin = sklearn.linear_model.LinearRegression()"
   ]
  },
  {
   "cell_type": "code",
   "execution_count": 7,
   "id": "94606306",
   "metadata": {},
   "outputs": [],
   "source": [
    "X = np.array([x,x**2]).T"
   ]
  },
  {
   "cell_type": "code",
   "execution_count": 8,
   "id": "a7cc6773",
   "metadata": {},
   "outputs": [
    {
     "data": {
      "text/plain": [
       "LinearRegression()"
      ]
     },
     "execution_count": 8,
     "metadata": {},
     "output_type": "execute_result"
    }
   ],
   "source": [
    "lin.fit(X,y)"
   ]
  },
  {
   "cell_type": "code",
   "execution_count": 9,
   "id": "b7a50d77",
   "metadata": {},
   "outputs": [],
   "source": [
    "y_pred = lin.predict(X)\n",
    "y_pred = np.sort(y_pred, axis= 0)"
   ]
  },
  {
   "cell_type": "code",
   "execution_count": 10,
   "id": "2985238b",
   "metadata": {},
   "outputs": [
    {
     "data": {
      "text/plain": [
       "[<matplotlib.lines.Line2D at 0x204132d8a60>]"
      ]
     },
     "execution_count": 10,
     "metadata": {},
     "output_type": "execute_result"
    },
    {
     "data": {
      "image/png": "[encoded data removed]",
      "text/plain": [
       "<Figure size 432x288 with 1 Axes>"
      ]
     },
     "metadata": {
      "needs_background": "light"
     },
     "output_type": "display_data"
    }
   ],
   "source": [
    "plt.scatter(x, y)\n",
    "plt.plot(x, y_pred,'r')"
   ]
  },
  {
   "cell_type": "code",
   "execution_count": 11,
   "id": "bf790e87",
   "metadata": {},
   "outputs": [
    {
     "name": "stdout",
     "output_type": "stream",
     "text": [
      "y =   -38.86840198917501*X_1 + 5.376634682558221*X_2 + 53.83950467877584 con R^2 de 0.9659513253030287\n"
     ]
    }
   ],
   "source": [
    "score = lin.score(X, y)\n",
    "print(\"y =   {}*X_1 + {}*X_2 + {} con R^2 de {}\".format(lin.coef_[0],lin.coef_[1],lin.intercept_,score))"
   ]
  },
  {
   "cell_type": "code",
   "execution_count": 53,
   "id": "c424ac42",
   "metadata": {},
   "outputs": [
    {
     "data": {
      "text/plain": [
       "<matplotlib.collections.PathCollection at 0x204138ee8b0>"
      ]
     },
     "execution_count": 53,
     "metadata": {},
     "output_type": "execute_result"
    },
    {
     "data": {
      "image/png": "[encoded data removed]",
      "text/plain": [
       "<Figure size 432x288 with 1 Axes>"
      ]
     },
     "metadata": {
      "needs_background": "light"
     },
     "output_type": "display_data"
    }
   ],
   "source": [
    "y1 = np.concatenate((gen_1[\"LCMR\"],gen_2[\"LCMR\"],gen_3[\"LCMR\"]))\n",
    "x1 = np.concatenate((get_suma(gen_1[\"TC\"]) , get_suma(gen_2[\"TC\"]),get_suma(gen_3[\"TC\"])))\n",
    "z = np.concatenate((gen_1[\"Edad\"],gen_2[\"Edad\"],gen_3['Edad']))\n",
    "w1 = np.array(gen_1[\"TC\"])\n",
    "#plt.scatter(z,y1)\n",
    "#plt.scatter(z,x1)\n",
    "plt.scatter(x1,y1)"
   ]
  },
  {
   "cell_type": "code",
   "execution_count": 54,
   "id": "6f805877",
   "metadata": {},
   "outputs": [
    {
     "data": {
      "text/plain": [
       "((36,), (36,))"
      ]
     },
     "execution_count": 54,
     "metadata": {},
     "output_type": "execute_result"
    }
   ],
   "source": [
    "reg = sklearn.linear_model.LinearRegression()\n",
    "x1.shape,y1.shape"
   ]
  },
  {
   "cell_type": "code",
   "execution_count": 55,
   "id": "7498dfd8",
   "metadata": {},
   "outputs": [
    {
     "data": {
      "text/plain": [
       "(36, 2)"
      ]
     },
     "execution_count": 55,
     "metadata": {},
     "output_type": "execute_result"
    }
   ],
   "source": [
    "Z = np.array([x1,z]).T\n",
    "#Z = Z.reshape(2,12).T\n",
    "Z.shape"
   ]
  },
  {
   "cell_type": "code",
   "execution_count": 56,
   "id": "03bd3823",
   "metadata": {},
   "outputs": [
    {
     "data": {
      "text/plain": [
       "LinearRegression()"
      ]
     },
     "execution_count": 56,
     "metadata": {},
     "output_type": "execute_result"
    }
   ],
   "source": [
    "reg.fit(Z,y1)"
   ]
  },
  {
   "cell_type": "code",
   "execution_count": 57,
   "id": "d936f100",
   "metadata": {},
   "outputs": [
    {
     "data": {
      "text/plain": [
       "array([-85.60852862,  -5.40999971,  24.90783917,  43.32233156,\n",
       "        54.36808566,  60.87923157,  66.25672544,  81.2702617 ,\n",
       "       124.62509911, 177.61597891, 240.80972713, 320.44143002,\n",
       "       411.97647939, -85.60852862, -11.64508597,  13.00449268,\n",
       "        29.71850701,  37.93013099,  42.17397281,  56.62068305,\n",
       "        94.30726023, 141.6298798 , 199.15536779, 271.9851584 ,\n",
       "       357.85194754, -85.60852862, -13.91239006,  12.43766666,\n",
       "        25.75072485,  41.89791315,  53.51049327,  88.92976636,\n",
       "       131.15095173, 180.74087539, 245.63510168, 324.69997854])"
      ]
     },
     "execution_count": 57,
     "metadata": {},
     "output_type": "execute_result"
    }
   ],
   "source": [
    "y_n1 = reg.predict(Z)\n",
    "y_n1"
   ]
  },
  {
   "cell_type": "code",
   "execution_count": 58,
   "id": "a60de10b",
   "metadata": {},
   "outputs": [
    {
     "data": {
      "text/plain": [
       "<matplotlib.collections.PathCollection at 0x2041491aeb0>"
      ]
     },
     "execution_count": 58,
     "metadata": {},
     "output_type": "execute_result"
    },
    {
     "data": {
      "image/png": "[encoded data removed]",
      "text/plain": [
       "<Figure size 432x288 with 1 Axes>"
      ]
     },
     "metadata": {
      "needs_background": "light"
     },
     "output_type": "display_data"
    }
   ],
   "source": [
    "plt.scatter(x1, y1)\n",
    "plt.scatter(x1, y_n1)"
   ]
  },
  {
   "cell_type": "code",
   "execution_count": 59,
   "id": "376983ed",
   "metadata": {},
   "outputs": [
    {
     "data": {
      "text/plain": [
       "0.8795992843175221"
      ]
     },
     "execution_count": 59,
     "metadata": {},
     "output_type": "execute_result"
    }
   ],
   "source": [
    "score = reg.score(Z, y1)\n",
    "score"
   ]
  },
  {
   "cell_type": "code",
   "execution_count": 19,
   "id": "a58271c2",
   "metadata": {},
   "outputs": [
    {
     "data": {
      "text/plain": [
       "(array([ -5.66826023, 107.97300404]), -193.5815326602709)"
      ]
     },
     "execution_count": 19,
     "metadata": {},
     "output_type": "execute_result"
    }
   ],
   "source": [
    "reg.coef_, reg.intercept_"
   ]
  }
 ],
 "metadata": {
  "kernelspec": {
   "display_name": "Python 3 (ipykernel)",
   "language": "python",
   "name": "python3"
  },
  "language_info": {
   "codemirror_mode": {
    "name": "ipython",
    "version": 3
   },
   "file_extension": ".py",
   "mimetype": "text/x-python",
   "name": "python",
   "nbconvert_exporter": "python",
   "pygments_lexer": "ipython3",
   "version": "3.9.7"
  }
 },
 "nbformat": 4,
 "nbformat_minor": 5
}
